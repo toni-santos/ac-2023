{
 "cells": [
  {
   "cell_type": "markdown",
   "metadata": {},
   "source": [
    "# Basketball Playoffs Qualification\n",
    "\n",
    "## Task description\n",
    "\n",
    "Basketball tournaments are usually split in two parts. First, all teams play each other aiming to achieve the greatest number of wins possible. Then, at the end of the first part of the season, a pre determined number of teams which were able to win the most games are qualified to the playoff season, where they play series of knock-out matches for the trophy.\n",
    "\n",
    "For the 10 years, data from players, teams, coaches, games and several other metrics were gathered and arranged on this dataset. The goal is to use this data to predict which teams will qualify for the playoffs in the next season.\n",
    "\n",
    "## Data preparation\n",
    "\n",
    "### Creating the database\n",
    "\n",
    "First, we need to convert the CSV files to tables in an SQLite database, so we can analyze, manipulate and prepare data more easily. This was done with a couple of SQlite3 commands:\n",
    "\n",
    "```\n",
    ".mode csv\n",
    ".import dataset/awards_players.csv awards_players\n",
    ".import dataset/coaches.csv coaches\n",
    ".import dataset/players.csv players\n",
    ".import dataset/players_teams.csv players_teams\n",
    ".import dataset/series_post.csv series_post\n",
    ".import dataset/teams_post.csv teams_post\n",
    ".import dataset/teams.csv teams\n",
    ".save database.db\n",
    "```\n",
    "\n",
    "### Filtering unneeded rows and columns\n",
    "\n",
    "Upon closer inspection of the dataset, we found some rows which had no effect or could have a negative impact in our models training, such as rows in the players table which corresponded to current coaches, and thus had no information related to their height, weight, etc.\n",
    "\n",
    "## Model performance measures\n",
    "\n",
    "### The Game Score measure\n",
    "The Game Score measure, created by John Hollinger, attempts to give an estimation of a player's productivity for a single game. We will start working on our model based on this measure, applying it to each player based on a whole season's stats and dividing it by the amount of games played.\n",
    "\n",
    "### Basketball Power Index\n"
   ]
  },
  {
   "cell_type": "markdown",
   "metadata": {},
   "source": []
  }
 ],
 "metadata": {
  "kernelspec": {
   "display_name": "Python 3",
   "language": "python",
   "name": "python3"
  },
  "language_info": {
   "name": "python",
   "version": "3.11.5"
  },
  "orig_nbformat": 4
 },
 "nbformat": 4,
 "nbformat_minor": 2
}
