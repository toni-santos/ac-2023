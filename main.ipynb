{
 "cells": [
  {
   "cell_type": "markdown",
   "metadata": {},
   "source": [
    "# Basketball Playoffs Qualification\n",
    "\n",
    "## Task description\n",
    "\n",
    "Basketball tournaments are usually split in two parts. First, all teams play each other aiming to achieve the greatest number of wins possible. Then, at the end of the first part of the season, a pre determined number of teams which were able to win the most games are qualified to the playoff season, where they play series of knock-out matches for the trophy.\n",
    "\n",
    "For the 10 years, data from players, teams, coaches, games and several other metrics were gathered and arranged on this dataset. The goal is to use this data to predict which teams will qualify for the playoffs in the next season.\n",
    "\n",
    "## Data preparation\n",
    "\n",
    "### Creating the database\n",
    "\n",
    "First, we need to convert the CSV files to tables in an SQLite database, so we can analyze, manipulate and prepare data more easily. This was done with a couple of SQlite3 commands:\n",
    "\n",
    "```\n",
    ".mode csv\n",
    ".import dataset/awards_players.csv awards_players\n",
    ".import dataset/coaches.csv coaches\n",
    ".import dataset/players.csv players\n",
    ".import dataset/players_teams.csv players_teams\n",
    ".import dataset/series_post.csv series_post\n",
    ".import dataset/teams_post.csv teams_post\n",
    ".import dataset/teams.csv teams\n",
    ".save database.db\n",
    "```\n",
    "\n",
    "### Filtering unneeded rows and columns\n",
    "\n",
    "Upon closer inspection of the dataset, we found some rows which had no effect or could have a negative impact in our models training, such as rows in the players table which corresponded to current coaches, and thus had no information related to their height, weight, etc.\n",
    "\n",
    "## Model performance measures\n",
    "\n",
    "### The Game Score measure\n",
    "The Game Score measure, created by John Hollinger, attempts to give an estimation of a player's productivity for a single game. We will start working on our model based on this measure, applying it to each player based on a whole season's stats and dividing it by the amount of games played.\n",
    "\n",
    "### Basketball Power Index\n"
   ]
  },
  {
   "cell_type": "markdown",
   "metadata": {},
   "source": [
    "Import necessary packages"
   ]
  },
  {
   "cell_type": "code",
   "execution_count": 1,
   "metadata": {},
   "outputs": [],
   "source": [
    "import sqlite3\n",
    "import pandas as pd"
   ]
  },
  {
   "cell_type": "markdown",
   "metadata": {},
   "source": [
    "Create dataframes based on the database and relations between data"
   ]
  },
  {
   "cell_type": "code",
   "execution_count": 2,
   "metadata": {},
   "outputs": [],
   "source": [
    "con = sqlite3.connect(\"database.db\")\n",
    "\n",
    "# Player <-> Awards\n",
    "pl_aw = pd.read_sql_query(\"SELECT * FROM awards_players INNER JOIN players ON awards_players.playerID = players.bioID\", con)\n",
    "\n",
    "# Player <-> Teams\n",
    "pl_tm = pd.read_sql_query(\"SELECT * FROM players_teams INNER JOIN players ON players_teams.playerID = players.bioID\", con)\n",
    "\n",
    "# Teams <-> Post Season Results (aggregated)\n",
    "tm_psa = pd.read_sql_query(\"SELECT * FROM teams_post INNER JOIN teams ON (teams_post.tmID = teams.tmID AND teams_post.year = teams.year)\", con)\n",
    "\n",
    "# Coach <-> Teams\n",
    "cc_tm = pd.read_sql_query(\"SELECT * FROM coaches INNER JOIN teams ON (coaches.tmID = teams.tmID AND coaches.year = teams.year)\", con)\n"
   ]
  },
  {
   "cell_type": "markdown",
   "metadata": {},
   "source": [
    "## Data Pre-processing"
   ]
  },
  {
   "cell_type": "markdown",
   "metadata": {},
   "source": [
    "First, remove columns that only have null values."
   ]
  },
  {
   "cell_type": "code",
   "execution_count": 20,
   "metadata": {},
   "outputs": [
    {
     "name": "stdout",
     "output_type": "stream",
     "text": [
      "Dropped columns in dataframe 0: ['firstseason', 'lastseason']\n",
      "Dropped columns in dataframe 1: ['firstseason', 'lastseason']\n",
      "Dropped columns in dataframe 2: ['opptmDRB', 'opptmORB', 'opptmTRB', 'seeded', 'tmDRB', 'tmORB', 'tmTRB']\n",
      "Dropped columns in dataframe 3: ['opptmDRB', 'opptmORB', 'opptmTRB', 'seeded', 'tmDRB', 'tmORB', 'tmTRB']\n"
     ]
    }
   ],
   "source": [
    "dataframes = [pl_aw, pl_tm, tm_psa, cc_tm]\n",
    "\n",
    "for i in range(len(dataframes)):\n",
    "    dropped_columns = dataframes[i].columns.difference(dataframes[i].loc[:, (dataframes[i] != '0').any()].columns)\n",
    "    print(f\"Dropped columns in dataframe {i}: {list(dropped_columns)}\")\n",
    "    dataframes[i] = dataframes[i].loc[:, (dataframes[i] != '0').any()]"
   ]
  },
  {
   "cell_type": "markdown",
   "metadata": {},
   "source": [
    "Now, to analyse the values' Z-Score and IQR."
   ]
  },
  {
   "cell_type": "code",
   "execution_count": 23,
   "metadata": {},
   "outputs": [],
   "source": [
    "# Outlier for Player's Weight + Height\n",
    "# Outlier for Team's played minutes\n",
    "# Outlier Player+Team's minutes\n",
    "# Outlier Player+Team's points\n",
    "# Players that have Birth-Date 0\n",
    "# Feature engineering, number of awards per player/coach, number of awards per team\n"
   ]
  },
  {
   "cell_type": "code",
   "execution_count": null,
   "metadata": {},
   "outputs": [],
   "source": []
  }
 ],
 "metadata": {
  "kernelspec": {
   "display_name": "Python 3",
   "language": "python",
   "name": "python3"
  },
  "language_info": {
   "codemirror_mode": {
    "name": "ipython",
    "version": 3
   },
   "file_extension": ".py",
   "mimetype": "text/x-python",
   "name": "python",
   "nbconvert_exporter": "python",
   "pygments_lexer": "ipython3",
   "version": "3.10.11"
  },
  "orig_nbformat": 4
 },
 "nbformat": 4,
 "nbformat_minor": 2
}
